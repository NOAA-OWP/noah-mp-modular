{
 "cells": [
  {
   "cell_type": "code",
   "execution_count": 1,
   "id": "7e6e02bf-0399-4f5a-b44d-f35e168236d1",
   "metadata": {},
   "outputs": [],
   "source": [
    "import pandas,geopandas,os,math,numpy"
   ]
  },
  {
   "cell_type": "code",
   "execution_count": 2,
   "id": "7708b5f1-8ad5-4851-8490-6b19991c0286",
   "metadata": {},
   "outputs": [],
   "source": [
    "hyfgpkg = \"./hyf.gpkg\"                  # hydrofabric geopackage\n",
    "dircat = './csv'                        # dir containing AORC csv files for each hydrofabric cat\n",
    "outfile = '../../data/forcings.dat'  # outfile file to be fed into Noah-OM"
   ]
  },
  {
   "cell_type": "code",
   "execution_count": 3,
   "id": "a9a737fc-7781-4e3b-b530-8c1bfc473948",
   "metadata": {},
   "outputs": [],
   "source": [
    "# Get catchment areas"
   ]
  },
  {
   "cell_type": "code",
   "execution_count": 4,
   "id": "bcd0a849-b677-4dca-8048-bac04896b307",
   "metadata": {},
   "outputs": [],
   "source": [
    "dta = dict()\n",
    "data = geopandas.read_file(hyfgpkg)\n",
    "for index,row in data.iterrows(): # Looping over all points\n",
    "    dta[row['divide_id']] = float(row['areasqkm'])"
   ]
  },
  {
   "cell_type": "code",
   "execution_count": 5,
   "id": "cf1f58b8-b391-4154-983c-0e4dc60aa22b",
   "metadata": {},
   "outputs": [],
   "source": [
    "# Read AORC csvs and put into a single pandas df"
   ]
  },
  {
   "cell_type": "code",
   "execution_count": 6,
   "id": "89913108-6e32-4f58-b1a8-30c06c1fcdd7",
   "metadata": {},
   "outputs": [],
   "source": [
    "dt = dict()\n",
    "for catid in dta:\n",
    "    filecat = catid+'.csv'\n",
    "    dt[catid] = pandas.read_csv(os.path.join(dircat,filecat))\n",
    "    #dt[catid].set_index('Time',inplace=True)\n",
    "    dt[catid]['catid'] = catid\n",
    "df = pandas.concat([dt[catid] for catid in dt])\n",
    "df['cat_area_km2'] = df['catid'].apply(lambda x: dta.get(x)) # add area column\n",
    "df['Time'] = pandas.to_datetime(df['Time']) # time -> datetime for easy formatting later"
   ]
  },
  {
   "cell_type": "code",
   "execution_count": 7,
   "id": "c4952b5d-d8ab-4b70-b03c-98f9d961c3be",
   "metadata": {},
   "outputs": [],
   "source": [
    "# Add/calculate some new columns"
   ]
  },
  {
   "cell_type": "code",
   "execution_count": 8,
   "id": "2325a8dc-f10b-426a-bf93-b6f3024da313",
   "metadata": {},
   "outputs": [],
   "source": [
    "### Calculate relative humidity from specific humidity\n",
    "qair_dimless = df['Q2D']\n",
    "temp_c = df['T2D'] - 273.15\n",
    "press_mb = df['PSFC'] / 100.0\n",
    "es = 6.112 * numpy.exp((17.67 * temp_c)/(temp_c + 243.5))\n",
    "e = qair_dimless * press_mb / (0.378 * qair_dimless + 0.622)\n",
    "rh = e/es\n",
    "rh = numpy.where(rh < 0, 0, rh)\n",
    "rh = numpy.where(rh > 1, 1, rh)\n",
    "df['rh'] = rh * 100 # 0 to 1 -> 0 to 100"
   ]
  },
  {
   "cell_type": "code",
   "execution_count": 9,
   "id": "2fb08de6-2bf1-4312-9ae0-51a4a8578cf8",
   "metadata": {},
   "outputs": [],
   "source": [
    "### Calculate wind speed and direction\n",
    "df['ws'] = numpy.sqrt(df['U2D']**2+df['V2D']**2)\n",
    "df['wd'] = numpy.degrees(numpy.arctan2(df['V2D'],df['U2D']))\n",
    "df['wd'] = numpy.where(df['wd'] < 0.,180+df['wd']+180,df['wd']) #e.g., -180 -> 180, -90 -> 270"
   ]
  },
  {
   "cell_type": "code",
   "execution_count": 10,
   "id": "279edfa7-f1c7-4e97-a402-855ca7f3aa7d",
   "metadata": {},
   "outputs": [],
   "source": [
    "# Calculate area weighted means"
   ]
  },
  {
   "cell_type": "code",
   "execution_count": 11,
   "id": "63c13356-5866-4f5d-b274-fc5aa3f5f64d",
   "metadata": {},
   "outputs": [],
   "source": [
    "df2 = df\n",
    "for col in ['RAINRATE','rh','T2D','ws','wd','LWDOWN','SWDOWN','PSFC']:\n",
    "    df2[col] = df2[col] * df2['cat_area_km2']\n",
    "df3 = df2.groupby('Time').sum()\n",
    "for col in ['RAINRATE','rh','T2D','ws','wd','LWDOWN','SWDOWN','PSFC']:\n",
    "    df3[col] = df3[col] / numpy.sum(list(dta.values())) \n",
    "drops = [col for col in df3.columns if col not in ['RAINRATE','rh','T2D','ws','wd','LWDOWN','SWDOWN','PSFC']]\n",
    "df3.drop(columns=drops,inplace=True) # Remove unneeded cols"
   ]
  },
  {
   "cell_type": "code",
   "execution_count": 12,
   "id": "40f710b9-6bb3-4072-969d-c3ead3651824",
   "metadata": {},
   "outputs": [],
   "source": [
    "# Write forcing input file"
   ]
  },
  {
   "cell_type": "code",
   "execution_count": 13,
   "id": "06d9f100-d0e9-4149-9c9c-3ba829cc3be1",
   "metadata": {},
   "outputs": [],
   "source": [
    "with open(outfile,'w') as ofile:\n",
    "    ofile.write('------------------------------------------------------------------------------------------------------------------------------------------------------------\\n')\n",
    "    ofile.write(' UTC date/time        windspeed       wind dir         temperature      humidity        pressure           shortwave      longwave          precipitation\\n')\n",
    "    ofile.write('yyyy mm dd hh mi       m s{-1}        degrees               K               %             hPa               W m{-2}        W m{-2}          kg m{-2} s{-1}\\n')\n",
    "    ofile.write('------------------------------------------------------------------------------------------------------------------------------------------------------------\\n')\n",
    "    ofile.write('<Forcing>  This tag (\"<Forcing>\", not case sensitive) begins the section of forcing data.\\n')\n",
    "    for time, row in df3.iterrows():\n",
    "        ofile.write(time.strftime('%Y %m %d %H %M'))\n",
    "        ofile.write(\"{:17.10f}\".format(row['ws']))\n",
    "        ofile.write(\"{:17.10f}\".format(row['wd']))\n",
    "        ofile.write(\"{:17.10f}\".format(row['T2D']))\n",
    "        ofile.write(\"{:17.10f}\".format(row['rh']))\n",
    "        ofile.write(\"{:17.10f}\".format(row['PSFC']/100)) #Pa -> kPa\n",
    "        ofile.write(\"{:17.10f}\".format(row['SWDOWN']))\n",
    "        ofile.write(\"{:17.10f}\".format(row['LWDOWN']))\n",
    "        ofile.write(\"{:17.10f}\".format(row['RAINRATE']))\n",
    "        ofile.write('\\n')"
   ]
  }
 ],
 "metadata": {
  "kernelspec": {
   "display_name": "Python 3 (ipykernel)",
   "language": "python",
   "name": "python3"
  },
  "language_info": {
   "codemirror_mode": {
    "name": "ipython",
    "version": 3
   },
   "file_extension": ".py",
   "mimetype": "text/x-python",
   "name": "python",
   "nbconvert_exporter": "python",
   "pygments_lexer": "ipython3",
   "version": "3.11.6"
  }
 },
 "nbformat": 4,
 "nbformat_minor": 5
}
